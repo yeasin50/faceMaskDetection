{
 "cells": [
  {
   "cell_type": "markdown",
   "metadata": {},
   "source": [
    "#  Trainer MaskDetection"
   ]
  },
  {
   "cell_type": "markdown",
   "metadata": {},
   "source": [
    "<font size=4> import the necessary packages"
   ]
  },
  {
   "cell_type": "code",
   "execution_count": 1,
   "metadata": {},
   "outputs": [],
   "source": [
    "from tensorflow.keras.preprocessing.image import ImageDataGenerator\n",
    "from tensorflow.keras.applications import MobileNetV2\n",
    "from tensorflow.keras.layers import AveragePooling2D\n",
    "from tensorflow.keras.layers import Dropout\n",
    "from tensorflow.keras.layers import Flatten\n",
    "from tensorflow.keras.layers import Dense\n",
    "from tensorflow.keras.layers import Input\n",
    "from tensorflow.keras.models import Model\n",
    "from tensorflow.keras.optimizers import Adam\n",
    "from tensorflow.keras.applications.mobilenet_v2 import preprocess_input\n",
    "from tensorflow.keras.preprocessing.image import img_to_array\n",
    "from tensorflow.keras.preprocessing.image import load_img\n",
    "from tensorflow.keras.utils import to_categorical\n",
    "from sklearn.preprocessing import LabelBinarizer\n",
    "from sklearn.model_selection import train_test_split\n",
    "from sklearn.metrics import classification_report\n",
    "from imutils import paths\n",
    "import matplotlib.pyplot as plt\n",
    "import numpy as np\n",
    "import argparse\n",
    "import os\n",
    "from tqdm.notebook import tqdm"
   ]
  },
  {
   "cell_type": "code",
   "execution_count": 2,
   "metadata": {},
   "outputs": [],
   "source": [
    "LR = 1e-4 # means 0.0001 learning rate\n",
    "EPOCH =20 \n",
    "BS = 32 # batch size"
   ]
  },
  {
   "cell_type": "code",
   "execution_count": 3,
   "metadata": {},
   "outputs": [],
   "source": [
    "#imutils help to get images path\n",
    "imagePaths = list(paths.list_images(\"dataset\")) \n",
    "data =[]\n",
    "labels = []"
   ]
  },
  {
   "cell_type": "markdown",
   "metadata": {},
   "source": [
    "This way we get the folder name and mark as label"
   ]
  },
  {
   "cell_type": "code",
   "execution_count": 4,
   "metadata": {},
   "outputs": [
    {
     "name": "stdout",
     "output_type": "stream",
     "text": [
      "🛣full path: dataset\\with_mask\\prajna.jpg\n",
      "📁folderName: with_mask\n"
     ]
    }
   ],
   "source": [
    "print(\"🛣full path: \"+imagePaths[-1])\n",
    "print(\"📁folderName: \"+imagePaths[-1].split(os.path.sep)[-2])"
   ]
  },
  {
   "cell_type": "code",
   "execution_count": 5,
   "metadata": {},
   "outputs": [
    {
     "data": {
      "application/vnd.jupyter.widget-view+json": {
       "model_id": "3e142b110b2d4a9599c507cf443160e5",
       "version_major": 2,
       "version_minor": 0
      },
      "text/plain": [
       "Progress:   0%|          | 0/1376 [00:00<?, ?it/s]"
      ]
     },
     "metadata": {},
     "output_type": "display_data"
    }
   ],
   "source": [
    "pbar = tqdm(total = len(imagePaths), desc=\"Progress\")\n",
    "for  imagePath in imagePaths:\n",
    "    label = imagePath.split(os.path.sep)[-2] #extract class label\n",
    "    \n",
    "    #load and process image after resizing\n",
    "    image = load_img(imagePath, target_size=(244,244))\n",
    "    image = img_to_array(image)\n",
    "    image = preprocess_input(image)\n",
    "    \n",
    "    #update/store on list\n",
    "    data.append(image)\n",
    "    labels.append(label)\n",
    "    \n",
    "    #update progressBar\n",
    "    pbar.update(1)\n",
    "pbar.close()"
   ]
  },
  {
   "cell_type": "markdown",
   "metadata": {},
   "source": [
    "Convert the data and labels to NumPy arrays for traning"
   ]
  },
  {
   "cell_type": "code",
   "execution_count": 6,
   "metadata": {},
   "outputs": [
    {
     "name": "stdout",
     "output_type": "stream",
     "text": [
      "🔃: Converting to Numpy....\n",
      "🥂: Conversion completed.\n"
     ]
    }
   ],
   "source": [
    "print(\"🔃: Converting to Numpy....\")\n",
    "data = np.array(data, dtype=\"float32\")\n",
    "labels = np.array(labels)\n",
    "print(\"🥂: Conversion completed.\")"
   ]
  },
  {
   "cell_type": "markdown",
   "metadata": {},
   "source": [
    "<font  size=4> one-hot encoding on the labels"
   ]
  },
  {
   "cell_type": "code",
   "execution_count": 7,
   "metadata": {},
   "outputs": [],
   "source": [
    "lb = LabelBinarizer()\n",
    "labels = lb.fit_transform(labels)\n",
    "labels = to_categorical(labels)"
   ]
  },
  {
   "cell_type": "markdown",
   "metadata": {},
   "source": [
    "<font size=3> Train Data 80% and 20% for test"
   ]
  },
  {
   "cell_type": "code",
   "execution_count": 8,
   "metadata": {},
   "outputs": [
    {
     "name": "stdout",
     "output_type": "stream",
     "text": [
      "🔃:training model..... \n",
      "🎉:training completed.\n"
     ]
    }
   ],
   "source": [
    "print(\"🔃:training model..... \")\n",
    "(trainX, testX, trainY, testY) = train_test_split(data, labels, test_size=.20, stratify=labels, random_state=42)\n",
    "print(\"🎉:training completed.\")"
   ]
  },
  {
   "cell_type": "markdown",
   "metadata": {},
   "source": [
    "construct the training image generator for data augmentation"
   ]
  },
  {
   "cell_type": "code",
   "execution_count": 9,
   "metadata": {},
   "outputs": [],
   "source": [
    "#  it will improve generalization\n",
    "aug = ImageDataGenerator(\n",
    "    rotation_range=20,\n",
    "    zoom_range=0.15,\n",
    "    width_shift_range=0.2,\n",
    "    height_shift_range=0.2,\n",
    "    shear_range=0.15,\n",
    "    horizontal_flip=True,\n",
    "    fill_mode=\"nearest\")"
   ]
  },
  {
   "cell_type": "code",
   "execution_count": 10,
   "metadata": {},
   "outputs": [
    {
     "name": "stdout",
     "output_type": "stream",
     "text": [
      "WARNING:tensorflow:`input_shape` is undefined or non-square, or `rows` is not in [96, 128, 160, 192, 224]. Weights for input shape (224, 224) will be loaded as the default.\n"
     ]
    }
   ],
   "source": [
    "baseModel = MobileNetV2(\n",
    "    weights=\"imagenet\",\n",
    "    include_top=False,\n",
    "    input_tensor=Input(shape=(244, 244, 3)))"
   ]
  },
  {
   "cell_type": "markdown",
   "metadata": {},
   "source": [
    "construct the head of the model that will be placed on top of the base model"
   ]
  },
  {
   "cell_type": "code",
   "execution_count": 11,
   "metadata": {},
   "outputs": [],
   "source": [
    "headModel = baseModel.output\n",
    "headModel = AveragePooling2D(pool_size=(7, 7))(headModel)\n",
    "headModel = Flatten(name=\"flatten\")(headModel)\n",
    "headModel = Dense(128, activation=\"relu\")(headModel)\n",
    "headModel = Dropout(0.5)(headModel)\n",
    "headModel = Dense(2, activation=\"softmax\")(headModel)"
   ]
  },
  {
   "cell_type": "code",
   "execution_count": 12,
   "metadata": {},
   "outputs": [],
   "source": [
    "#actual model\n",
    "model = Model(inputs= baseModel.input, outputs= headModel)"
   ]
  },
  {
   "cell_type": "markdown",
   "metadata": {},
   "source": [
    "<font size=3.3>Freeze update while first training process"
   ]
  },
  {
   "cell_type": "code",
   "execution_count": 13,
   "metadata": {},
   "outputs": [
    {
     "data": {
      "application/vnd.jupyter.widget-view+json": {
       "model_id": "ea56e183f25d4582881b8ddcd5071622",
       "version_major": 2,
       "version_minor": 0
      },
      "text/plain": [
       "Done:   0%|          | 0/154 [00:00<?, ?it/s]"
      ]
     },
     "metadata": {},
     "output_type": "display_data"
    }
   ],
   "source": [
    "pbar = tqdm(total=len(baseModel.layers), desc=\"Done\")\n",
    "for layer in baseModel.layers:\n",
    "    layer.trainable = False\n",
    "    pbar.update(1)\n",
    "\n",
    "pbar.close()"
   ]
  },
  {
   "cell_type": "markdown",
   "metadata": {},
   "source": [
    "<center><font size=4> Compile Model"
   ]
  },
  {
   "cell_type": "code",
   "execution_count": 14,
   "metadata": {},
   "outputs": [],
   "source": [
    "opt = Adam(lr =LR, decay= LR/ EPOCH)\n",
    "model.compile(loss=\"binary_crossentropy\", optimizer=opt, metrics=[\"accuracy\"])"
   ]
  },
  {
   "cell_type": "markdown",
   "metadata": {},
   "source": [
    "<center><font size=4.2>Train the head of the network"
   ]
  },
  {
   "cell_type": "code",
   "execution_count": 15,
   "metadata": {},
   "outputs": [
    {
     "name": "stdout",
     "output_type": "stream",
     "text": [
      "Epoch 1/20\n",
      "34/34 [==============================] - 38s 1s/step - loss: 0.7306 - accuracy: 0.6223 - val_loss: 0.2498 - val_accuracy: 0.9746\n",
      "Epoch 2/20\n",
      "34/34 [==============================] - 32s 952ms/step - loss: 0.2854 - accuracy: 0.9490 - val_loss: 0.1183 - val_accuracy: 0.9855\n",
      "Epoch 3/20\n",
      "34/34 [==============================] - 32s 949ms/step - loss: 0.1358 - accuracy: 0.9851 - val_loss: 0.0730 - val_accuracy: 0.9928\n",
      "Epoch 4/20\n",
      "34/34 [==============================] - 32s 951ms/step - loss: 0.1029 - accuracy: 0.9847 - val_loss: 0.0523 - val_accuracy: 0.9964\n",
      "Epoch 5/20\n",
      "34/34 [==============================] - 32s 945ms/step - loss: 0.0688 - accuracy: 0.9898 - val_loss: 0.0413 - val_accuracy: 0.9964\n",
      "Epoch 6/20\n",
      "34/34 [==============================] - 32s 946ms/step - loss: 0.0557 - accuracy: 0.9852 - val_loss: 0.0379 - val_accuracy: 0.9891\n",
      "Epoch 7/20\n",
      "34/34 [==============================] - 32s 946ms/step - loss: 0.0393 - accuracy: 0.9944 - val_loss: 0.0301 - val_accuracy: 0.9964\n",
      "Epoch 8/20\n",
      "34/34 [==============================] - 33s 954ms/step - loss: 0.0467 - accuracy: 0.9917 - val_loss: 0.0263 - val_accuracy: 0.9964\n",
      "Epoch 9/20\n",
      "34/34 [==============================] - 32s 947ms/step - loss: 0.0478 - accuracy: 0.9900 - val_loss: 0.0238 - val_accuracy: 0.9964\n",
      "Epoch 10/20\n",
      "34/34 [==============================] - 32s 943ms/step - loss: 0.0409 - accuracy: 0.9922 - val_loss: 0.0217 - val_accuracy: 0.9964\n",
      "Epoch 11/20\n",
      "34/34 [==============================] - 34s 989ms/step - loss: 0.0220 - accuracy: 0.9959 - val_loss: 0.0194 - val_accuracy: 0.9964\n",
      "Epoch 12/20\n",
      "34/34 [==============================] - 32s 951ms/step - loss: 0.0256 - accuracy: 0.9951 - val_loss: 0.0182 - val_accuracy: 0.9964\n",
      "Epoch 13/20\n",
      "34/34 [==============================] - 33s 958ms/step - loss: 0.0241 - accuracy: 0.9979 - val_loss: 0.0171 - val_accuracy: 0.9964\n",
      "Epoch 14/20\n",
      "34/34 [==============================] - 33s 954ms/step - loss: 0.0216 - accuracy: 0.9948 - val_loss: 0.0162 - val_accuracy: 0.9964\n",
      "Epoch 15/20\n",
      "34/34 [==============================] - 32s 946ms/step - loss: 0.0219 - accuracy: 0.9953 - val_loss: 0.0153 - val_accuracy: 0.9964\n",
      "Epoch 16/20\n",
      "34/34 [==============================] - 32s 952ms/step - loss: 0.0171 - accuracy: 0.9972 - val_loss: 0.0148 - val_accuracy: 0.9964\n",
      "Epoch 17/20\n",
      "34/34 [==============================] - 35s 1s/step - loss: 0.0161 - accuracy: 0.9963 - val_loss: 0.0142 - val_accuracy: 0.9964\n",
      "Epoch 18/20\n",
      "34/34 [==============================] - 34s 994ms/step - loss: 0.0210 - accuracy: 0.9902 - val_loss: 0.0136 - val_accuracy: 0.9964\n",
      "Epoch 19/20\n",
      "34/34 [==============================] - 32s 952ms/step - loss: 0.0181 - accuracy: 0.9929 - val_loss: 0.0135 - val_accuracy: 0.9964\n",
      "Epoch 20/20\n",
      "34/34 [==============================] - 35s 1s/step - loss: 0.0099 - accuracy: 0.9981 - val_loss: 0.0127 - val_accuracy: 0.9964\n"
     ]
    }
   ],
   "source": [
    "H = model.fit(\n",
    "\taug.flow(trainX, trainY, batch_size=BS),\n",
    "\tsteps_per_epoch=len(trainX) // BS,\n",
    "\tvalidation_data=(testX, testY),\n",
    "\tvalidation_steps=len(testX) // BS,\n",
    "\tepochs=EPOCH)"
   ]
  },
  {
   "cell_type": "markdown",
   "metadata": {},
   "source": [
    "<center><font size=4>Evaluating network & Save model"
   ]
  },
  {
   "cell_type": "code",
   "execution_count": 16,
   "metadata": {},
   "outputs": [
    {
     "name": "stdout",
     "output_type": "stream",
     "text": [
      "              precision    recall  f1-score   support\n",
      "\n",
      "   with_mask       1.00      0.99      1.00       138\n",
      "without_mask       0.99      1.00      1.00       138\n",
      "\n",
      "    accuracy                           1.00       276\n",
      "   macro avg       1.00      1.00      1.00       276\n",
      "weighted avg       1.00      1.00      1.00       276\n",
      "\n"
     ]
    }
   ],
   "source": [
    "predIdxs = model.predict(testX, batch_size=BS) # predictions on testing set\n",
    "predIdxs = np.argmax(predIdxs, axis = 1) #largest predicted probability\n",
    "\n",
    "print(classification_report(testY.argmax(axis=1), predIdxs, target_names=lb.classes_))\n",
    "      \n",
    "model.save(\"maskDetector11.model\", save_format=\"h5\")"
   ]
  },
  {
   "cell_type": "markdown",
   "metadata": {},
   "source": [
    "<center><font size=4> Visualize accuracy and loss curves"
   ]
  },
  {
   "cell_type": "code",
   "execution_count": 17,
   "metadata": {},
   "outputs": [
    {
     "data": {
      "image/png": "[encoded data removed]",
      "text/plain": [
       "<Figure size 432x288 with 1 Axes>"
      ]
     },
     "metadata": {},
     "output_type": "display_data"
    }
   ],
   "source": [
    "N= EPOCH\n",
    "plt.style.use(\"ggplot\")\n",
    "plt.figure()\n",
    "plt.plot(np.arange(0, N), H.history[\"loss\"], label=\"train_loss\")\n",
    "plt.plot(np.arange(0, N), H.history[\"val_loss\"], label=\"val_loss\")\n",
    "plt.plot(np.arange(0, N), H.history[\"accuracy\"], label=\"train_acc\")\n",
    "plt.plot(np.arange(0, N), H.history[\"val_accuracy\"], label=\"val_acc\")\n",
    "plt.title(\"Training Loss and Accuracy\")\n",
    "plt.xlabel(\"Epoch #\")\n",
    "plt.ylabel(\"Loss/Accuracy\")\n",
    "plt.legend(loc=\"lower left\")\n",
    "plt.savefig(\"plot11\")"
   ]
  },
  {
   "cell_type": "code",
   "execution_count": null,
   "metadata": {},
   "outputs": [],
   "source": []
  }
 ],
 "metadata": {
  "kernelspec": {
   "display_name": "Python 3",
   "language": "python",
   "name": "python3"
  },
  "language_info": {
   "codemirror_mode": {
    "name": "ipython",
    "version": 3
   },
   "file_extension": ".py",
   "mimetype": "text/x-python",
   "name": "python",
   "nbconvert_exporter": "python",
   "pygments_lexer": "ipython3",
   "version": "3.8.5"
  }
 },
 "nbformat": 4,
 "nbformat_minor": 4
}
