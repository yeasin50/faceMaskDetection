{
 "cells": [
  {
   "cell_type": "markdown",
   "metadata": {},
   "source": [
    "#  Trainer MaskDetection"
   ]
  },
  {
   "cell_type": "markdown",
   "metadata": {},
   "source": [
    "<font size=4> import the necessary packages"
   ]
  },
  {
   "cell_type": "code",
   "execution_count": 17,
   "metadata": {},
   "outputs": [],
   "source": [
    "from tensorflow.keras.preprocessing.image import ImageDataGenerator\n",
    "from tensorflow.keras.applications import MobileNetV2\n",
    "from tensorflow.keras.layers import AveragePooling2D\n",
    "from tensorflow.keras.layers import Dropout\n",
    "from tensorflow.keras.layers import Flatten\n",
    "from tensorflow.keras.layers import Dense\n",
    "from tensorflow.keras.layers import Input\n",
    "from tensorflow.keras.models import Model\n",
    "from tensorflow.keras.optimizers import Adam\n",
    "from tensorflow.keras.applications.mobilenet_v2 import preprocess_input\n",
    "from tensorflow.keras.preprocessing.image import img_to_array\n",
    "from tensorflow.keras.preprocessing.image import load_img\n",
    "from tensorflow.keras.utils import to_categorical\n",
    "from sklearn.preprocessing import LabelBinarizer\n",
    "from sklearn.model_selection import train_test_split\n",
    "from sklearn.metrics import classification_report\n",
    "from imutils import paths\n",
    "import matplotlib.pyplot as plt\n",
    "import numpy as np\n",
    "import argparse\n",
    "import os\n",
    "from tqdm.notebook import tqdm"
   ]
  },
  {
   "cell_type": "code",
   "execution_count": 3,
   "metadata": {},
   "outputs": [],
   "source": [
    "LR = 1e-4 # means 0.0001 learning rate\n",
    "EPOCH =20 \n",
    "BS = 32 # batch size"
   ]
  },
  {
   "cell_type": "code",
   "execution_count": 15,
   "metadata": {},
   "outputs": [],
   "source": [
    "#imutils help to get images path\n",
    "imagePaths = list(paths.list_images(\"dataset\")) \n",
    "data =[]\n",
    "labels = []"
   ]
  },
  {
   "cell_type": "markdown",
   "metadata": {},
   "source": [
    "This way we get the folder name and mark as label"
   ]
  },
  {
   "cell_type": "code",
   "execution_count": 14,
   "metadata": {},
   "outputs": [
    {
     "name": "stdout",
     "output_type": "stream",
     "text": [
      "full path: dataset\\with_mask\\prajna.jpg\n",
      "folderName: with_mask\n"
     ]
    }
   ],
   "source": [
    "print(\"🛣full path: \"+imagePaths[-1])\n",
    "print(\"📁folderName: \"+imagePaths[-1].split(os.path.sep)[-2])"
   ]
  },
  {
   "cell_type": "code",
   "execution_count": 23,
   "metadata": {},
   "outputs": [
    {
     "data": {
      "application/vnd.jupyter.widget-view+json": {
       "model_id": "90bd2c95af6c4e8f9f11cfebcf620e8a",
       "version_major": 2,
       "version_minor": 0
      },
      "text/plain": [
       "Progress:   0%|          | 0/1376 [00:00<?, ?it/s]"
      ]
     },
     "metadata": {},
     "output_type": "display_data"
    }
   ],
   "source": [
    "pbar = tqdm(total = len(imagePaths), desc=\"Progress\")\n",
    "for  imagePath in imagePaths:\n",
    "    label = imagePath.split(os.path.sep)[-2] #extract class label\n",
    "    \n",
    "    #load and process image after resizing\n",
    "    image = load_img(imagePath, target_size=(244,244))\n",
    "    image = img_to_array(image)\n",
    "    image = preprocess_input(image)\n",
    "    \n",
    "    #update/store on list\n",
    "    data.append(image)\n",
    "    labels.append(label)\n",
    "    \n",
    "    #update progressBar\n",
    "    pbar.update(1)\n",
    "pbar.close()"
   ]
  },
  {
   "cell_type": "markdown",
   "metadata": {},
   "source": [
    "Convert the data and labels to NumPy arrays for traning"
   ]
  },
  {
   "cell_type": "code",
   "execution_count": 32,
   "metadata": {},
   "outputs": [
    {
     "name": "stdout",
     "output_type": "stream",
     "text": [
      "[INFO]: Converting to Numpy.. 🔃\n",
      "[INFO]: Convertion completed ⚒\n"
     ]
    }
   ],
   "source": [
    "print(\"🔃: Converting to Numpy....\")\n",
    "data = np.array(data, dtype=\"float32\")\n",
    "labels = np.array(labels)\n",
    "print(\"🥂: Conversion completed.\")"
   ]
  },
  {
   "cell_type": "markdown",
   "metadata": {},
   "source": [
    "<font  size=4> one-hot encoding on the labels"
   ]
  },
  {
   "cell_type": "code",
   "execution_count": 34,
   "metadata": {},
   "outputs": [],
   "source": [
    "lb = LabelBinarizer()\n",
    "labels = lb.fit_transform(labels)\n",
    "labels = to_categorical(labels)"
   ]
  },
  {
   "cell_type": "markdown",
   "metadata": {},
   "source": [
    "<font size=3> Train Data 80% and 20% for test"
   ]
  },
  {
   "cell_type": "code",
   "execution_count": 40,
   "metadata": {},
   "outputs": [],
   "source": [
    "print(\"🔃:training model..... \")\n",
    "(trainX, testX, trainY, testY) = train_test_split(data, labels, test_size=.20, stratify=labels, random_state=42)\n",
    "print(\"🎉:training completed.\")"
   ]
  },
  {
   "cell_type": "markdown",
   "metadata": {},
   "source": [
    "construct the training image generator for data augmentation"
   ]
  },
  {
   "cell_type": "code",
   "execution_count": 41,
   "metadata": {},
   "outputs": [],
   "source": [
    "#  it will improve generalization\n",
    "aug = ImageDataGenerator(\n",
    "    rotation_range=20,\n",
    "    zoom_range=0.15,\n",
    "    width_shift_range=0.2,\n",
    "    height_shift_range=0.2,\n",
    "    shear_range=0.15,\n",
    "    horizontal_flip=True,\n",
    "    fill_mode=\"nearest\")"
   ]
  },
  {
   "cell_type": "code",
   "execution_count": 42,
   "metadata": {},
   "outputs": [
    {
     "name": "stdout",
     "output_type": "stream",
     "text": [
      "WARNING:tensorflow:`input_shape` is undefined or non-square, or `rows` is not in [96, 128, 160, 192, 224]. Weights for input shape (224, 224) will be loaded as the default.\n"
     ]
    }
   ],
   "source": [
    "baseModel = MobileNetV2(\n",
    "    weights=\"imagenet\",\n",
    "    include_top=False,\n",
    "    input_tensor=Input(shape=(244, 244, 3)))"
   ]
  },
  {
   "cell_type": "markdown",
   "metadata": {},
   "source": [
    "construct the head of the model that will be placed on top of the base model"
   ]
  },
  {
   "cell_type": "code",
   "execution_count": 44,
   "metadata": {},
   "outputs": [],
   "source": [
    "headModel = baseModel.output\n",
    "headModel = AveragePooling2D(pool_size=(7, 7))(headModel)\n",
    "headModel = Flatten(name=\"flatten\")(headModel)\n",
    "headModel = Dense(128, activation=\"relu\")(headModel)\n",
    "headModel = Dropout(0.5)(headModel)\n",
    "headModel = Dense(2, activation=\"softmax\")(headModel)"
   ]
  },
  {
   "cell_type": "code",
   "execution_count": 45,
   "metadata": {},
   "outputs": [],
   "source": [
    "#actual model\n",
    "model = Model(inputs= baseModel.input, outputs= headModel)"
   ]
  },
  {
   "cell_type": "markdown",
   "metadata": {},
   "source": [
    "<font size=3.3>Freeze update while first training process"
   ]
  },
  {
   "cell_type": "code",
   "execution_count": 49,
   "metadata": {},
   "outputs": [
    {
     "data": {
      "application/vnd.jupyter.widget-view+json": {
       "model_id": "a47e9a41b44d46c6a4f4059c93070fad",
       "version_major": 2,
       "version_minor": 0
      },
      "text/plain": [
       "Done:   0%|          | 0/154 [00:00<?, ?it/s]"
      ]
     },
     "metadata": {},
     "output_type": "display_data"
    }
   ],
   "source": [
    "pbar = tqdm(total=len(baseModel.layers), desc=\"Done\")\n",
    "for layer in baseModel.layers:\n",
    "    layer.trainable = False\n",
    "    pbar.update(1)\n",
    "\n",
    "pbar.close()"
   ]
  },
  {
   "cell_type": "markdown",
   "metadata": {},
   "source": [
    "<center><font size=4> Compile Model"
   ]
  },
  {
   "cell_type": "code",
   "execution_count": 50,
   "metadata": {},
   "outputs": [],
   "source": [
    "opt = Adam(lr =LR, decay= LR/ EPOCH)\n",
    "model.compile(loss=\"binary_crossentropy\", optimizer=opt, metrics=[\"accuracy\"])"
   ]
  },
  {
   "cell_type": "markdown",
   "metadata": {},
   "source": [
    "<center><font size=4.2>Train the head of the network"
   ]
  },
  {
   "cell_type": "code",
   "execution_count": 51,
   "metadata": {},
   "outputs": [
    {
     "name": "stdout",
     "output_type": "stream",
     "text": [
      "Epoch 1/20\n",
      "137/137 [==============================] - 164s 1s/step - loss: 0.3925 - accuracy: 0.8534 - val_loss: 0.0420 - val_accuracy: 0.9918\n",
      "Epoch 2/20\n",
      "137/137 [==============================] - 136s 990ms/step - loss: 0.0626 - accuracy: 0.9846 - val_loss: 0.0241 - val_accuracy: 0.9900\n",
      "Epoch 3/20\n",
      "137/137 [==============================] - 143s 1s/step - loss: 0.0301 - accuracy: 0.9949 - val_loss: 0.0188 - val_accuracy: 0.9936\n",
      "Epoch 4/20\n",
      "137/137 [==============================] - 137s 1s/step - loss: 0.0250 - accuracy: 0.9951 - val_loss: 0.0150 - val_accuracy: 0.9964\n",
      "Epoch 5/20\n",
      "137/137 [==============================] - 135s 987ms/step - loss: 0.0195 - accuracy: 0.9962 - val_loss: 0.0140 - val_accuracy: 0.9946\n",
      "Epoch 6/20\n",
      "137/137 [==============================] - 133s 972ms/step - loss: 0.0165 - accuracy: 0.9958 - val_loss: 0.0139 - val_accuracy: 0.9946\n",
      "Epoch 7/20\n",
      "137/137 [==============================] - 134s 981ms/step - loss: 0.0144 - accuracy: 0.9963 - val_loss: 0.0099 - val_accuracy: 0.9982\n",
      "Epoch 8/20\n",
      "137/137 [==============================] - 135s 982ms/step - loss: 0.0103 - accuracy: 0.9981 - val_loss: 0.0091 - val_accuracy: 0.9982\n",
      "Epoch 9/20\n",
      "137/137 [==============================] - 136s 994ms/step - loss: 0.0121 - accuracy: 0.9972 - val_loss: 0.0102 - val_accuracy: 0.9955\n",
      "Epoch 10/20\n",
      "137/137 [==============================] - 138s 1s/step - loss: 0.0099 - accuracy: 0.9972 - val_loss: 0.0100 - val_accuracy: 0.9955\n",
      "Epoch 11/20\n",
      "137/137 [==============================] - 135s 992ms/step - loss: 0.0098 - accuracy: 0.9972 - val_loss: 0.0060 - val_accuracy: 0.9991\n",
      "Epoch 12/20\n",
      "137/137 [==============================] - 135s 982ms/step - loss: 0.0078 - accuracy: 0.9968 - val_loss: 0.0064 - val_accuracy: 0.9991\n",
      "Epoch 13/20\n",
      "137/137 [==============================] - 140s 1s/step - loss: 0.0068 - accuracy: 0.9989 - val_loss: 0.0059 - val_accuracy: 0.9991\n",
      "Epoch 14/20\n",
      "137/137 [==============================] - 139s 1s/step - loss: 0.0064 - accuracy: 0.9980 - val_loss: 0.0086 - val_accuracy: 0.9991\n",
      "Epoch 15/20\n",
      "137/137 [==============================] - 135s 988ms/step - loss: 0.0072 - accuracy: 0.9990 - val_loss: 0.0079 - val_accuracy: 0.9991\n",
      "Epoch 16/20\n",
      "137/137 [==============================] - 135s 987ms/step - loss: 0.0043 - accuracy: 0.9991 - val_loss: 0.0051 - val_accuracy: 0.9991\n",
      "Epoch 17/20\n",
      "137/137 [==============================] - 141s 1s/step - loss: 0.0064 - accuracy: 0.9971 - val_loss: 0.0046 - val_accuracy: 0.9991\n",
      "Epoch 18/20\n",
      "137/137 [==============================] - 135s 987ms/step - loss: 0.0058 - accuracy: 0.9980 - val_loss: 0.0057 - val_accuracy: 0.9991\n",
      "Epoch 19/20\n",
      "137/137 [==============================] - 133s 968ms/step - loss: 0.0036 - accuracy: 0.9994 - val_loss: 0.0063 - val_accuracy: 0.9991\n",
      "Epoch 20/20\n",
      "137/137 [==============================] - 133s 967ms/step - loss: 0.0040 - accuracy: 0.9991 - val_loss: 0.0045 - val_accuracy: 0.9991\n"
     ]
    }
   ],
   "source": [
    "H = model.fit(\n",
    "\taug.flow(trainX, trainY, batch_size=BS),\n",
    "\tsteps_per_epoch=len(trainX) // BS,\n",
    "\tvalidation_data=(testX, testY),\n",
    "\tvalidation_steps=len(testX) // BS,\n",
    "\tepochs=EPOCH)"
   ]
  },
  {
   "cell_type": "markdown",
   "metadata": {},
   "source": [
    "<center><font size=4>Evaluating network & Save model"
   ]
  },
  {
   "cell_type": "code",
   "execution_count": 54,
   "metadata": {},
   "outputs": [
    {
     "name": "stdout",
     "output_type": "stream",
     "text": [
      "              precision    recall  f1-score   support\n",
      "\n",
      "   with_mask       1.00      1.00      1.00       552\n",
      "without_mask       1.00      1.00      1.00       549\n",
      "\n",
      "    accuracy                           1.00      1101\n",
      "   macro avg       1.00      1.00      1.00      1101\n",
      "weighted avg       1.00      1.00      1.00      1101\n",
      "\n"
     ]
    }
   ],
   "source": [
    "predIdxs = model.predict(testX, batch_size=BS) # predictions on testing set\n",
    "predIdxs = np.argmax(predIdxs, axis = 1) #largest predicted probability\n",
    "\n",
    "print(classification_report(testY.argmax(axis=1), predIdxs, target_names=lb.classes_))\n",
    "      \n",
    "model.save(\"model\", save_format=\"h5\")"
   ]
  },
  {
   "cell_type": "markdown",
   "metadata": {},
   "source": [
    "<center><font size=4> Visualize accuracy and loss curves"
   ]
  },
  {
   "cell_type": "code",
   "execution_count": 56,
   "metadata": {},
   "outputs": [
    {
     "data": {
      "image/png": "[encoded data removed]",
      "text/plain": [
       "<Figure size 432x288 with 1 Axes>"
      ]
     },
     "metadata": {},
     "output_type": "display_data"
    }
   ],
   "source": [
    "N= EPOCH\n",
    "plt.style.use(\"ggplot\")\n",
    "plt.figure()\n",
    "plt.plot(np.arange(0, N), H.history[\"loss\"], label=\"train_loss\")\n",
    "plt.plot(np.arange(0, N), H.history[\"val_loss\"], label=\"val_loss\")\n",
    "plt.plot(np.arange(0, N), H.history[\"accuracy\"], label=\"train_acc\")\n",
    "plt.plot(np.arange(0, N), H.history[\"val_accuracy\"], label=\"val_acc\")\n",
    "plt.title(\"Training Loss and Accuracy\")\n",
    "plt.xlabel(\"Epoch #\")\n",
    "plt.ylabel(\"Loss/Accuracy\")\n",
    "plt.legend(loc=\"lower left\")\n",
    "plt.savefig(\"plot\")"
   ]
  },
  {
   "cell_type": "code",
   "execution_count": null,
   "metadata": {},
   "outputs": [],
   "source": []
  }
 ],
 "metadata": {
  "kernelspec": {
   "display_name": "Python 3",
   "language": "python",
   "name": "python3"
  },
  "language_info": {
   "codemirror_mode": {
    "name": "ipython",
    "version": 3
   },
   "file_extension": ".py",
   "mimetype": "text/x-python",
   "name": "python",
   "nbconvert_exporter": "python",
   "pygments_lexer": "ipython3",
   "version": "3.8.5"
  }
 },
 "nbformat": 4,
 "nbformat_minor": 4
}
